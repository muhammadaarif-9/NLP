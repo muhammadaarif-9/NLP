{
  "nbformat": 4,
  "nbformat_minor": 0,
  "metadata": {
    "colab": {
      "name": "multilingual_wordAlignment.ipynb",
      "provenance": [],
      "collapsed_sections": [],
      "toc_visible": true,
      "authorship_tag": "ABX9TyONs9qeNTYd+Q17HBLu9hEO",
      "include_colab_link": true
    },
    "kernelspec": {
      "name": "python3",
      "display_name": "Python 3"
    },
    "language_info": {
      "name": "python"
    },
    "widgets": {
      "application/vnd.jupyter.widget-state+json": {
        "df05a4b1bbd548cda70809cc765ce1a0": {
          "model_module": "@jupyter-widgets/controls",
          "model_name": "HBoxModel",
          "model_module_version": "1.5.0",
          "state": {
            "_dom_classes": [],
            "_model_module": "@jupyter-widgets/controls",
            "_model_module_version": "1.5.0",
            "_model_name": "HBoxModel",
            "_view_count": null,
            "_view_module": "@jupyter-widgets/controls",
            "_view_module_version": "1.5.0",
            "_view_name": "HBoxView",
            "box_style": "",
            "children": [
              "IPY_MODEL_ab37d41234a34a25897286a448c289e3",
              "IPY_MODEL_a58fc00d546443b1b764477edb9b3958",
              "IPY_MODEL_8f8423e09e664b46beffcd921cd4f0b0"
            ],
            "layout": "IPY_MODEL_70d669111d4148a698f87df9d4e72229"
          }
        },
        "ab37d41234a34a25897286a448c289e3": {
          "model_module": "@jupyter-widgets/controls",
          "model_name": "HTMLModel",
          "model_module_version": "1.5.0",
          "state": {
            "_dom_classes": [],
            "_model_module": "@jupyter-widgets/controls",
            "_model_module_version": "1.5.0",
            "_model_name": "HTMLModel",
            "_view_count": null,
            "_view_module": "@jupyter-widgets/controls",
            "_view_module_version": "1.5.0",
            "_view_name": "HTMLView",
            "description": "",
            "description_tooltip": null,
            "layout": "IPY_MODEL_e76a6d28832148a1904fa250a3b985f2",
            "placeholder": "​",
            "style": "IPY_MODEL_c129e01be036498093149b0e9d7c049a",
            "value": "Downloading config.json: 100%"
          }
        },
        "a58fc00d546443b1b764477edb9b3958": {
          "model_module": "@jupyter-widgets/controls",
          "model_name": "FloatProgressModel",
          "model_module_version": "1.5.0",
          "state": {
            "_dom_classes": [],
            "_model_module": "@jupyter-widgets/controls",
            "_model_module_version": "1.5.0",
            "_model_name": "FloatProgressModel",
            "_view_count": null,
            "_view_module": "@jupyter-widgets/controls",
            "_view_module_version": "1.5.0",
            "_view_name": "ProgressView",
            "bar_style": "success",
            "description": "",
            "description_tooltip": null,
            "layout": "IPY_MODEL_cdde7cc8f3684687a2c83872e07c873d",
            "max": 615,
            "min": 0,
            "orientation": "horizontal",
            "style": "IPY_MODEL_75411e3c32544d1ba95284c231482667",
            "value": 615
          }
        },
        "8f8423e09e664b46beffcd921cd4f0b0": {
          "model_module": "@jupyter-widgets/controls",
          "model_name": "HTMLModel",
          "model_module_version": "1.5.0",
          "state": {
            "_dom_classes": [],
            "_model_module": "@jupyter-widgets/controls",
            "_model_module_version": "1.5.0",
            "_model_name": "HTMLModel",
            "_view_count": null,
            "_view_module": "@jupyter-widgets/controls",
            "_view_module_version": "1.5.0",
            "_view_name": "HTMLView",
            "description": "",
            "description_tooltip": null,
            "layout": "IPY_MODEL_f4dccb5f027845f098d824171d247018",
            "placeholder": "​",
            "style": "IPY_MODEL_8ba7ed25e28444ed8dc1ce9482e5e9b1",
            "value": " 615/615 [00:00&lt;00:00, 7.69kB/s]"
          }
        },
        "70d669111d4148a698f87df9d4e72229": {
          "model_module": "@jupyter-widgets/base",
          "model_name": "LayoutModel",
          "model_module_version": "1.2.0",
          "state": {
            "_model_module": "@jupyter-widgets/base",
            "_model_module_version": "1.2.0",
            "_model_name": "LayoutModel",
            "_view_count": null,
            "_view_module": "@jupyter-widgets/base",
            "_view_module_version": "1.2.0",
            "_view_name": "LayoutView",
            "align_content": null,
            "align_items": null,
            "align_self": null,
            "border": null,
            "bottom": null,
            "display": null,
            "flex": null,
            "flex_flow": null,
            "grid_area": null,
            "grid_auto_columns": null,
            "grid_auto_flow": null,
            "grid_auto_rows": null,
            "grid_column": null,
            "grid_gap": null,
            "grid_row": null,
            "grid_template_areas": null,
            "grid_template_columns": null,
            "grid_template_rows": null,
            "height": null,
            "justify_content": null,
            "justify_items": null,
            "left": null,
            "margin": null,
            "max_height": null,
            "max_width": null,
            "min_height": null,
            "min_width": null,
            "object_fit": null,
            "object_position": null,
            "order": null,
            "overflow": null,
            "overflow_x": null,
            "overflow_y": null,
            "padding": null,
            "right": null,
            "top": null,
            "visibility": null,
            "width": null
          }
        },
        "e76a6d28832148a1904fa250a3b985f2": {
          "model_module": "@jupyter-widgets/base",
          "model_name": "LayoutModel",
          "model_module_version": "1.2.0",
          "state": {
            "_model_module": "@jupyter-widgets/base",
            "_model_module_version": "1.2.0",
            "_model_name": "LayoutModel",
            "_view_count": null,
            "_view_module": "@jupyter-widgets/base",
            "_view_module_version": "1.2.0",
            "_view_name": "LayoutView",
            "align_content": null,
            "align_items": null,
            "align_self": null,
            "border": null,
            "bottom": null,
            "display": null,
            "flex": null,
            "flex_flow": null,
            "grid_area": null,
            "grid_auto_columns": null,
            "grid_auto_flow": null,
            "grid_auto_rows": null,
            "grid_column": null,
            "grid_gap": null,
            "grid_row": null,
            "grid_template_areas": null,
            "grid_template_columns": null,
            "grid_template_rows": null,
            "height": null,
            "justify_content": null,
            "justify_items": null,
            "left": null,
            "margin": null,
            "max_height": null,
            "max_width": null,
            "min_height": null,
            "min_width": null,
            "object_fit": null,
            "object_position": null,
            "order": null,
            "overflow": null,
            "overflow_x": null,
            "overflow_y": null,
            "padding": null,
            "right": null,
            "top": null,
            "visibility": null,
            "width": null
          }
        },
        "c129e01be036498093149b0e9d7c049a": {
          "model_module": "@jupyter-widgets/controls",
          "model_name": "DescriptionStyleModel",
          "model_module_version": "1.5.0",
          "state": {
            "_model_module": "@jupyter-widgets/controls",
            "_model_module_version": "1.5.0",
            "_model_name": "DescriptionStyleModel",
            "_view_count": null,
            "_view_module": "@jupyter-widgets/base",
            "_view_module_version": "1.2.0",
            "_view_name": "StyleView",
            "description_width": ""
          }
        },
        "cdde7cc8f3684687a2c83872e07c873d": {
          "model_module": "@jupyter-widgets/base",
          "model_name": "LayoutModel",
          "model_module_version": "1.2.0",
          "state": {
            "_model_module": "@jupyter-widgets/base",
            "_model_module_version": "1.2.0",
            "_model_name": "LayoutModel",
            "_view_count": null,
            "_view_module": "@jupyter-widgets/base",
            "_view_module_version": "1.2.0",
            "_view_name": "LayoutView",
            "align_content": null,
            "align_items": null,
            "align_self": null,
            "border": null,
            "bottom": null,
            "display": null,
            "flex": null,
            "flex_flow": null,
            "grid_area": null,
            "grid_auto_columns": null,
            "grid_auto_flow": null,
            "grid_auto_rows": null,
            "grid_column": null,
            "grid_gap": null,
            "grid_row": null,
            "grid_template_areas": null,
            "grid_template_columns": null,
            "grid_template_rows": null,
            "height": null,
            "justify_content": null,
            "justify_items": null,
            "left": null,
            "margin": null,
            "max_height": null,
            "max_width": null,
            "min_height": null,
            "min_width": null,
            "object_fit": null,
            "object_position": null,
            "order": null,
            "overflow": null,
            "overflow_x": null,
            "overflow_y": null,
            "padding": null,
            "right": null,
            "top": null,
            "visibility": null,
            "width": null
          }
        },
        "75411e3c32544d1ba95284c231482667": {
          "model_module": "@jupyter-widgets/controls",
          "model_name": "ProgressStyleModel",
          "model_module_version": "1.5.0",
          "state": {
            "_model_module": "@jupyter-widgets/controls",
            "_model_module_version": "1.5.0",
            "_model_name": "ProgressStyleModel",
            "_view_count": null,
            "_view_module": "@jupyter-widgets/base",
            "_view_module_version": "1.2.0",
            "_view_name": "StyleView",
            "bar_color": null,
            "description_width": ""
          }
        },
        "f4dccb5f027845f098d824171d247018": {
          "model_module": "@jupyter-widgets/base",
          "model_name": "LayoutModel",
          "model_module_version": "1.2.0",
          "state": {
            "_model_module": "@jupyter-widgets/base",
            "_model_module_version": "1.2.0",
            "_model_name": "LayoutModel",
            "_view_count": null,
            "_view_module": "@jupyter-widgets/base",
            "_view_module_version": "1.2.0",
            "_view_name": "LayoutView",
            "align_content": null,
            "align_items": null,
            "align_self": null,
            "border": null,
            "bottom": null,
            "display": null,
            "flex": null,
            "flex_flow": null,
            "grid_area": null,
            "grid_auto_columns": null,
            "grid_auto_flow": null,
            "grid_auto_rows": null,
            "grid_column": null,
            "grid_gap": null,
            "grid_row": null,
            "grid_template_areas": null,
            "grid_template_columns": null,
            "grid_template_rows": null,
            "height": null,
            "justify_content": null,
            "justify_items": null,
            "left": null,
            "margin": null,
            "max_height": null,
            "max_width": null,
            "min_height": null,
            "min_width": null,
            "object_fit": null,
            "object_position": null,
            "order": null,
            "overflow": null,
            "overflow_x": null,
            "overflow_y": null,
            "padding": null,
            "right": null,
            "top": null,
            "visibility": null,
            "width": null
          }
        },
        "8ba7ed25e28444ed8dc1ce9482e5e9b1": {
          "model_module": "@jupyter-widgets/controls",
          "model_name": "DescriptionStyleModel",
          "model_module_version": "1.5.0",
          "state": {
            "_model_module": "@jupyter-widgets/controls",
            "_model_module_version": "1.5.0",
            "_model_name": "DescriptionStyleModel",
            "_view_count": null,
            "_view_module": "@jupyter-widgets/base",
            "_view_module_version": "1.2.0",
            "_view_name": "StyleView",
            "description_width": ""
          }
        },
        "f0bea61cf2024a76b09807da818f3afb": {
          "model_module": "@jupyter-widgets/controls",
          "model_name": "HBoxModel",
          "model_module_version": "1.5.0",
          "state": {
            "_dom_classes": [],
            "_model_module": "@jupyter-widgets/controls",
            "_model_module_version": "1.5.0",
            "_model_name": "HBoxModel",
            "_view_count": null,
            "_view_module": "@jupyter-widgets/controls",
            "_view_module_version": "1.5.0",
            "_view_name": "HBoxView",
            "box_style": "",
            "children": [
              "IPY_MODEL_f2890e75c2b8436f818b34752024bc57",
              "IPY_MODEL_c135636dbf8947089b223f8921eb84c9",
              "IPY_MODEL_d3d0844d6bea4e2bab5bcb61558cf4ee"
            ],
            "layout": "IPY_MODEL_84818b3699b84f60b9b78d101ae707b3"
          }
        },
        "f2890e75c2b8436f818b34752024bc57": {
          "model_module": "@jupyter-widgets/controls",
          "model_name": "HTMLModel",
          "model_module_version": "1.5.0",
          "state": {
            "_dom_classes": [],
            "_model_module": "@jupyter-widgets/controls",
            "_model_module_version": "1.5.0",
            "_model_name": "HTMLModel",
            "_view_count": null,
            "_view_module": "@jupyter-widgets/controls",
            "_view_module_version": "1.5.0",
            "_view_name": "HTMLView",
            "description": "",
            "description_tooltip": null,
            "layout": "IPY_MODEL_24c13fe0e3c949d09a0e0a315a9fbe1b",
            "placeholder": "​",
            "style": "IPY_MODEL_c8953afe9d644d7ead45db25e0fac208",
            "value": "Downloading pytorch_model.bin: 100%"
          }
        },
        "c135636dbf8947089b223f8921eb84c9": {
          "model_module": "@jupyter-widgets/controls",
          "model_name": "FloatProgressModel",
          "model_module_version": "1.5.0",
          "state": {
            "_dom_classes": [],
            "_model_module": "@jupyter-widgets/controls",
            "_model_module_version": "1.5.0",
            "_model_name": "FloatProgressModel",
            "_view_count": null,
            "_view_module": "@jupyter-widgets/controls",
            "_view_module_version": "1.5.0",
            "_view_name": "ProgressView",
            "bar_style": "success",
            "description": "",
            "description_tooltip": null,
            "layout": "IPY_MODEL_f0b2425b5f5d4f03a2c6700b5747cb5f",
            "max": 1115590446,
            "min": 0,
            "orientation": "horizontal",
            "style": "IPY_MODEL_6949c8c943b0400a870e8f4f3c7f3c40",
            "value": 1115590446
          }
        },
        "d3d0844d6bea4e2bab5bcb61558cf4ee": {
          "model_module": "@jupyter-widgets/controls",
          "model_name": "HTMLModel",
          "model_module_version": "1.5.0",
          "state": {
            "_dom_classes": [],
            "_model_module": "@jupyter-widgets/controls",
            "_model_module_version": "1.5.0",
            "_model_name": "HTMLModel",
            "_view_count": null,
            "_view_module": "@jupyter-widgets/controls",
            "_view_module_version": "1.5.0",
            "_view_name": "HTMLView",
            "description": "",
            "description_tooltip": null,
            "layout": "IPY_MODEL_1ec08d4f619647fbbf9d8d5688edc693",
            "placeholder": "​",
            "style": "IPY_MODEL_9713477b67034ed19f83644a868e932a",
            "value": " 1.04G/1.04G [00:23&lt;00:00, 51.5MB/s]"
          }
        },
        "84818b3699b84f60b9b78d101ae707b3": {
          "model_module": "@jupyter-widgets/base",
          "model_name": "LayoutModel",
          "model_module_version": "1.2.0",
          "state": {
            "_model_module": "@jupyter-widgets/base",
            "_model_module_version": "1.2.0",
            "_model_name": "LayoutModel",
            "_view_count": null,
            "_view_module": "@jupyter-widgets/base",
            "_view_module_version": "1.2.0",
            "_view_name": "LayoutView",
            "align_content": null,
            "align_items": null,
            "align_self": null,
            "border": null,
            "bottom": null,
            "display": null,
            "flex": null,
            "flex_flow": null,
            "grid_area": null,
            "grid_auto_columns": null,
            "grid_auto_flow": null,
            "grid_auto_rows": null,
            "grid_column": null,
            "grid_gap": null,
            "grid_row": null,
            "grid_template_areas": null,
            "grid_template_columns": null,
            "grid_template_rows": null,
            "height": null,
            "justify_content": null,
            "justify_items": null,
            "left": null,
            "margin": null,
            "max_height": null,
            "max_width": null,
            "min_height": null,
            "min_width": null,
            "object_fit": null,
            "object_position": null,
            "order": null,
            "overflow": null,
            "overflow_x": null,
            "overflow_y": null,
            "padding": null,
            "right": null,
            "top": null,
            "visibility": null,
            "width": null
          }
        },
        "24c13fe0e3c949d09a0e0a315a9fbe1b": {
          "model_module": "@jupyter-widgets/base",
          "model_name": "LayoutModel",
          "model_module_version": "1.2.0",
          "state": {
            "_model_module": "@jupyter-widgets/base",
            "_model_module_version": "1.2.0",
            "_model_name": "LayoutModel",
            "_view_count": null,
            "_view_module": "@jupyter-widgets/base",
            "_view_module_version": "1.2.0",
            "_view_name": "LayoutView",
            "align_content": null,
            "align_items": null,
            "align_self": null,
            "border": null,
            "bottom": null,
            "display": null,
            "flex": null,
            "flex_flow": null,
            "grid_area": null,
            "grid_auto_columns": null,
            "grid_auto_flow": null,
            "grid_auto_rows": null,
            "grid_column": null,
            "grid_gap": null,
            "grid_row": null,
            "grid_template_areas": null,
            "grid_template_columns": null,
            "grid_template_rows": null,
            "height": null,
            "justify_content": null,
            "justify_items": null,
            "left": null,
            "margin": null,
            "max_height": null,
            "max_width": null,
            "min_height": null,
            "min_width": null,
            "object_fit": null,
            "object_position": null,
            "order": null,
            "overflow": null,
            "overflow_x": null,
            "overflow_y": null,
            "padding": null,
            "right": null,
            "top": null,
            "visibility": null,
            "width": null
          }
        },
        "c8953afe9d644d7ead45db25e0fac208": {
          "model_module": "@jupyter-widgets/controls",
          "model_name": "DescriptionStyleModel",
          "model_module_version": "1.5.0",
          "state": {
            "_model_module": "@jupyter-widgets/controls",
            "_model_module_version": "1.5.0",
            "_model_name": "DescriptionStyleModel",
            "_view_count": null,
            "_view_module": "@jupyter-widgets/base",
            "_view_module_version": "1.2.0",
            "_view_name": "StyleView",
            "description_width": ""
          }
        },
        "f0b2425b5f5d4f03a2c6700b5747cb5f": {
          "model_module": "@jupyter-widgets/base",
          "model_name": "LayoutModel",
          "model_module_version": "1.2.0",
          "state": {
            "_model_module": "@jupyter-widgets/base",
            "_model_module_version": "1.2.0",
            "_model_name": "LayoutModel",
            "_view_count": null,
            "_view_module": "@jupyter-widgets/base",
            "_view_module_version": "1.2.0",
            "_view_name": "LayoutView",
            "align_content": null,
            "align_items": null,
            "align_self": null,
            "border": null,
            "bottom": null,
            "display": null,
            "flex": null,
            "flex_flow": null,
            "grid_area": null,
            "grid_auto_columns": null,
            "grid_auto_flow": null,
            "grid_auto_rows": null,
            "grid_column": null,
            "grid_gap": null,
            "grid_row": null,
            "grid_template_areas": null,
            "grid_template_columns": null,
            "grid_template_rows": null,
            "height": null,
            "justify_content": null,
            "justify_items": null,
            "left": null,
            "margin": null,
            "max_height": null,
            "max_width": null,
            "min_height": null,
            "min_width": null,
            "object_fit": null,
            "object_position": null,
            "order": null,
            "overflow": null,
            "overflow_x": null,
            "overflow_y": null,
            "padding": null,
            "right": null,
            "top": null,
            "visibility": null,
            "width": null
          }
        },
        "6949c8c943b0400a870e8f4f3c7f3c40": {
          "model_module": "@jupyter-widgets/controls",
          "model_name": "ProgressStyleModel",
          "model_module_version": "1.5.0",
          "state": {
            "_model_module": "@jupyter-widgets/controls",
            "_model_module_version": "1.5.0",
            "_model_name": "ProgressStyleModel",
            "_view_count": null,
            "_view_module": "@jupyter-widgets/base",
            "_view_module_version": "1.2.0",
            "_view_name": "StyleView",
            "bar_color": null,
            "description_width": ""
          }
        },
        "1ec08d4f619647fbbf9d8d5688edc693": {
          "model_module": "@jupyter-widgets/base",
          "model_name": "LayoutModel",
          "model_module_version": "1.2.0",
          "state": {
            "_model_module": "@jupyter-widgets/base",
            "_model_module_version": "1.2.0",
            "_model_name": "LayoutModel",
            "_view_count": null,
            "_view_module": "@jupyter-widgets/base",
            "_view_module_version": "1.2.0",
            "_view_name": "LayoutView",
            "align_content": null,
            "align_items": null,
            "align_self": null,
            "border": null,
            "bottom": null,
            "display": null,
            "flex": null,
            "flex_flow": null,
            "grid_area": null,
            "grid_auto_columns": null,
            "grid_auto_flow": null,
            "grid_auto_rows": null,
            "grid_column": null,
            "grid_gap": null,
            "grid_row": null,
            "grid_template_areas": null,
            "grid_template_columns": null,
            "grid_template_rows": null,
            "height": null,
            "justify_content": null,
            "justify_items": null,
            "left": null,
            "margin": null,
            "max_height": null,
            "max_width": null,
            "min_height": null,
            "min_width": null,
            "object_fit": null,
            "object_position": null,
            "order": null,
            "overflow": null,
            "overflow_x": null,
            "overflow_y": null,
            "padding": null,
            "right": null,
            "top": null,
            "visibility": null,
            "width": null
          }
        },
        "9713477b67034ed19f83644a868e932a": {
          "model_module": "@jupyter-widgets/controls",
          "model_name": "DescriptionStyleModel",
          "model_module_version": "1.5.0",
          "state": {
            "_model_module": "@jupyter-widgets/controls",
            "_model_module_version": "1.5.0",
            "_model_name": "DescriptionStyleModel",
            "_view_count": null,
            "_view_module": "@jupyter-widgets/base",
            "_view_module_version": "1.2.0",
            "_view_name": "StyleView",
            "description_width": ""
          }
        },
        "1e658d6300fb4adfa598582b4869e50c": {
          "model_module": "@jupyter-widgets/controls",
          "model_name": "HBoxModel",
          "model_module_version": "1.5.0",
          "state": {
            "_dom_classes": [],
            "_model_module": "@jupyter-widgets/controls",
            "_model_module_version": "1.5.0",
            "_model_name": "HBoxModel",
            "_view_count": null,
            "_view_module": "@jupyter-widgets/controls",
            "_view_module_version": "1.5.0",
            "_view_name": "HBoxView",
            "box_style": "",
            "children": [
              "IPY_MODEL_45279e366ef54a0bbb59cad1c9e3fabc",
              "IPY_MODEL_0c737350eb1443a990c3704fd3c3cb25",
              "IPY_MODEL_21c00f9782a847eb82c9b12609ed9272"
            ],
            "layout": "IPY_MODEL_c95da1745ec8412ba0ffc0977a2bb482"
          }
        },
        "45279e366ef54a0bbb59cad1c9e3fabc": {
          "model_module": "@jupyter-widgets/controls",
          "model_name": "HTMLModel",
          "model_module_version": "1.5.0",
          "state": {
            "_dom_classes": [],
            "_model_module": "@jupyter-widgets/controls",
            "_model_module_version": "1.5.0",
            "_model_name": "HTMLModel",
            "_view_count": null,
            "_view_module": "@jupyter-widgets/controls",
            "_view_module_version": "1.5.0",
            "_view_name": "HTMLView",
            "description": "",
            "description_tooltip": null,
            "layout": "IPY_MODEL_9e58424705c74192bab3977cf7ceaaa1",
            "placeholder": "​",
            "style": "IPY_MODEL_06edf5e25b9646ee9afbbb2e8353309b",
            "value": "Downloading sentencepiece.bpe.model: 100%"
          }
        },
        "0c737350eb1443a990c3704fd3c3cb25": {
          "model_module": "@jupyter-widgets/controls",
          "model_name": "FloatProgressModel",
          "model_module_version": "1.5.0",
          "state": {
            "_dom_classes": [],
            "_model_module": "@jupyter-widgets/controls",
            "_model_module_version": "1.5.0",
            "_model_name": "FloatProgressModel",
            "_view_count": null,
            "_view_module": "@jupyter-widgets/controls",
            "_view_module_version": "1.5.0",
            "_view_name": "ProgressView",
            "bar_style": "success",
            "description": "",
            "description_tooltip": null,
            "layout": "IPY_MODEL_9e5b3656ad5c46c8bc4804453beb2064",
            "max": 5069051,
            "min": 0,
            "orientation": "horizontal",
            "style": "IPY_MODEL_b71b952abaed4d1e96ac21a2dff5c1fe",
            "value": 5069051
          }
        },
        "21c00f9782a847eb82c9b12609ed9272": {
          "model_module": "@jupyter-widgets/controls",
          "model_name": "HTMLModel",
          "model_module_version": "1.5.0",
          "state": {
            "_dom_classes": [],
            "_model_module": "@jupyter-widgets/controls",
            "_model_module_version": "1.5.0",
            "_model_name": "HTMLModel",
            "_view_count": null,
            "_view_module": "@jupyter-widgets/controls",
            "_view_module_version": "1.5.0",
            "_view_name": "HTMLView",
            "description": "",
            "description_tooltip": null,
            "layout": "IPY_MODEL_634c37b583bf43a59e911443a28f3de3",
            "placeholder": "​",
            "style": "IPY_MODEL_ca2e5cd06b644f98bb8517215fc9d23c",
            "value": " 4.83M/4.83M [00:00&lt;00:00, 13.9MB/s]"
          }
        },
        "c95da1745ec8412ba0ffc0977a2bb482": {
          "model_module": "@jupyter-widgets/base",
          "model_name": "LayoutModel",
          "model_module_version": "1.2.0",
          "state": {
            "_model_module": "@jupyter-widgets/base",
            "_model_module_version": "1.2.0",
            "_model_name": "LayoutModel",
            "_view_count": null,
            "_view_module": "@jupyter-widgets/base",
            "_view_module_version": "1.2.0",
            "_view_name": "LayoutView",
            "align_content": null,
            "align_items": null,
            "align_self": null,
            "border": null,
            "bottom": null,
            "display": null,
            "flex": null,
            "flex_flow": null,
            "grid_area": null,
            "grid_auto_columns": null,
            "grid_auto_flow": null,
            "grid_auto_rows": null,
            "grid_column": null,
            "grid_gap": null,
            "grid_row": null,
            "grid_template_areas": null,
            "grid_template_columns": null,
            "grid_template_rows": null,
            "height": null,
            "justify_content": null,
            "justify_items": null,
            "left": null,
            "margin": null,
            "max_height": null,
            "max_width": null,
            "min_height": null,
            "min_width": null,
            "object_fit": null,
            "object_position": null,
            "order": null,
            "overflow": null,
            "overflow_x": null,
            "overflow_y": null,
            "padding": null,
            "right": null,
            "top": null,
            "visibility": null,
            "width": null
          }
        },
        "9e58424705c74192bab3977cf7ceaaa1": {
          "model_module": "@jupyter-widgets/base",
          "model_name": "LayoutModel",
          "model_module_version": "1.2.0",
          "state": {
            "_model_module": "@jupyter-widgets/base",
            "_model_module_version": "1.2.0",
            "_model_name": "LayoutModel",
            "_view_count": null,
            "_view_module": "@jupyter-widgets/base",
            "_view_module_version": "1.2.0",
            "_view_name": "LayoutView",
            "align_content": null,
            "align_items": null,
            "align_self": null,
            "border": null,
            "bottom": null,
            "display": null,
            "flex": null,
            "flex_flow": null,
            "grid_area": null,
            "grid_auto_columns": null,
            "grid_auto_flow": null,
            "grid_auto_rows": null,
            "grid_column": null,
            "grid_gap": null,
            "grid_row": null,
            "grid_template_areas": null,
            "grid_template_columns": null,
            "grid_template_rows": null,
            "height": null,
            "justify_content": null,
            "justify_items": null,
            "left": null,
            "margin": null,
            "max_height": null,
            "max_width": null,
            "min_height": null,
            "min_width": null,
            "object_fit": null,
            "object_position": null,
            "order": null,
            "overflow": null,
            "overflow_x": null,
            "overflow_y": null,
            "padding": null,
            "right": null,
            "top": null,
            "visibility": null,
            "width": null
          }
        },
        "06edf5e25b9646ee9afbbb2e8353309b": {
          "model_module": "@jupyter-widgets/controls",
          "model_name": "DescriptionStyleModel",
          "model_module_version": "1.5.0",
          "state": {
            "_model_module": "@jupyter-widgets/controls",
            "_model_module_version": "1.5.0",
            "_model_name": "DescriptionStyleModel",
            "_view_count": null,
            "_view_module": "@jupyter-widgets/base",
            "_view_module_version": "1.2.0",
            "_view_name": "StyleView",
            "description_width": ""
          }
        },
        "9e5b3656ad5c46c8bc4804453beb2064": {
          "model_module": "@jupyter-widgets/base",
          "model_name": "LayoutModel",
          "model_module_version": "1.2.0",
          "state": {
            "_model_module": "@jupyter-widgets/base",
            "_model_module_version": "1.2.0",
            "_model_name": "LayoutModel",
            "_view_count": null,
            "_view_module": "@jupyter-widgets/base",
            "_view_module_version": "1.2.0",
            "_view_name": "LayoutView",
            "align_content": null,
            "align_items": null,
            "align_self": null,
            "border": null,
            "bottom": null,
            "display": null,
            "flex": null,
            "flex_flow": null,
            "grid_area": null,
            "grid_auto_columns": null,
            "grid_auto_flow": null,
            "grid_auto_rows": null,
            "grid_column": null,
            "grid_gap": null,
            "grid_row": null,
            "grid_template_areas": null,
            "grid_template_columns": null,
            "grid_template_rows": null,
            "height": null,
            "justify_content": null,
            "justify_items": null,
            "left": null,
            "margin": null,
            "max_height": null,
            "max_width": null,
            "min_height": null,
            "min_width": null,
            "object_fit": null,
            "object_position": null,
            "order": null,
            "overflow": null,
            "overflow_x": null,
            "overflow_y": null,
            "padding": null,
            "right": null,
            "top": null,
            "visibility": null,
            "width": null
          }
        },
        "b71b952abaed4d1e96ac21a2dff5c1fe": {
          "model_module": "@jupyter-widgets/controls",
          "model_name": "ProgressStyleModel",
          "model_module_version": "1.5.0",
          "state": {
            "_model_module": "@jupyter-widgets/controls",
            "_model_module_version": "1.5.0",
            "_model_name": "ProgressStyleModel",
            "_view_count": null,
            "_view_module": "@jupyter-widgets/base",
            "_view_module_version": "1.2.0",
            "_view_name": "StyleView",
            "bar_color": null,
            "description_width": ""
          }
        },
        "634c37b583bf43a59e911443a28f3de3": {
          "model_module": "@jupyter-widgets/base",
          "model_name": "LayoutModel",
          "model_module_version": "1.2.0",
          "state": {
            "_model_module": "@jupyter-widgets/base",
            "_model_module_version": "1.2.0",
            "_model_name": "LayoutModel",
            "_view_count": null,
            "_view_module": "@jupyter-widgets/base",
            "_view_module_version": "1.2.0",
            "_view_name": "LayoutView",
            "align_content": null,
            "align_items": null,
            "align_self": null,
            "border": null,
            "bottom": null,
            "display": null,
            "flex": null,
            "flex_flow": null,
            "grid_area": null,
            "grid_auto_columns": null,
            "grid_auto_flow": null,
            "grid_auto_rows": null,
            "grid_column": null,
            "grid_gap": null,
            "grid_row": null,
            "grid_template_areas": null,
            "grid_template_columns": null,
            "grid_template_rows": null,
            "height": null,
            "justify_content": null,
            "justify_items": null,
            "left": null,
            "margin": null,
            "max_height": null,
            "max_width": null,
            "min_height": null,
            "min_width": null,
            "object_fit": null,
            "object_position": null,
            "order": null,
            "overflow": null,
            "overflow_x": null,
            "overflow_y": null,
            "padding": null,
            "right": null,
            "top": null,
            "visibility": null,
            "width": null
          }
        },
        "ca2e5cd06b644f98bb8517215fc9d23c": {
          "model_module": "@jupyter-widgets/controls",
          "model_name": "DescriptionStyleModel",
          "model_module_version": "1.5.0",
          "state": {
            "_model_module": "@jupyter-widgets/controls",
            "_model_module_version": "1.5.0",
            "_model_name": "DescriptionStyleModel",
            "_view_count": null,
            "_view_module": "@jupyter-widgets/base",
            "_view_module_version": "1.2.0",
            "_view_name": "StyleView",
            "description_width": ""
          }
        },
        "60f472b1ebd340308c1cc9a3cea76196": {
          "model_module": "@jupyter-widgets/controls",
          "model_name": "HBoxModel",
          "model_module_version": "1.5.0",
          "state": {
            "_dom_classes": [],
            "_model_module": "@jupyter-widgets/controls",
            "_model_module_version": "1.5.0",
            "_model_name": "HBoxModel",
            "_view_count": null,
            "_view_module": "@jupyter-widgets/controls",
            "_view_module_version": "1.5.0",
            "_view_name": "HBoxView",
            "box_style": "",
            "children": [
              "IPY_MODEL_e6d0f6fdb5b54568af45291217e8e0e0",
              "IPY_MODEL_1cf5172a0aaf40c490726b65d03adc06",
              "IPY_MODEL_b526389e564541ad84d67cd2ed3546ce"
            ],
            "layout": "IPY_MODEL_68a31221b1374c8eb3e307a3718b5290"
          }
        },
        "e6d0f6fdb5b54568af45291217e8e0e0": {
          "model_module": "@jupyter-widgets/controls",
          "model_name": "HTMLModel",
          "model_module_version": "1.5.0",
          "state": {
            "_dom_classes": [],
            "_model_module": "@jupyter-widgets/controls",
            "_model_module_version": "1.5.0",
            "_model_name": "HTMLModel",
            "_view_count": null,
            "_view_module": "@jupyter-widgets/controls",
            "_view_module_version": "1.5.0",
            "_view_name": "HTMLView",
            "description": "",
            "description_tooltip": null,
            "layout": "IPY_MODEL_00f9d23b4d244d14b411cd5a59b2bfe4",
            "placeholder": "​",
            "style": "IPY_MODEL_974ab8fdaae94fd78190a7f43653483e",
            "value": "Downloading tokenizer.json: 100%"
          }
        },
        "1cf5172a0aaf40c490726b65d03adc06": {
          "model_module": "@jupyter-widgets/controls",
          "model_name": "FloatProgressModel",
          "model_module_version": "1.5.0",
          "state": {
            "_dom_classes": [],
            "_model_module": "@jupyter-widgets/controls",
            "_model_module_version": "1.5.0",
            "_model_name": "FloatProgressModel",
            "_view_count": null,
            "_view_module": "@jupyter-widgets/controls",
            "_view_module_version": "1.5.0",
            "_view_name": "ProgressView",
            "bar_style": "success",
            "description": "",
            "description_tooltip": null,
            "layout": "IPY_MODEL_9d7b420182874d9688c0090865a37a51",
            "max": 9096718,
            "min": 0,
            "orientation": "horizontal",
            "style": "IPY_MODEL_347a63fd80634c16810621aa8afacde6",
            "value": 9096718
          }
        },
        "b526389e564541ad84d67cd2ed3546ce": {
          "model_module": "@jupyter-widgets/controls",
          "model_name": "HTMLModel",
          "model_module_version": "1.5.0",
          "state": {
            "_dom_classes": [],
            "_model_module": "@jupyter-widgets/controls",
            "_model_module_version": "1.5.0",
            "_model_name": "HTMLModel",
            "_view_count": null,
            "_view_module": "@jupyter-widgets/controls",
            "_view_module_version": "1.5.0",
            "_view_name": "HTMLView",
            "description": "",
            "description_tooltip": null,
            "layout": "IPY_MODEL_baa4a9f4e19e47ebbb91cd0b33ad0ed2",
            "placeholder": "​",
            "style": "IPY_MODEL_c9732077297044cb94d7e918b5a3edf0",
            "value": " 8.68M/8.68M [00:00&lt;00:00, 17.3MB/s]"
          }
        },
        "68a31221b1374c8eb3e307a3718b5290": {
          "model_module": "@jupyter-widgets/base",
          "model_name": "LayoutModel",
          "model_module_version": "1.2.0",
          "state": {
            "_model_module": "@jupyter-widgets/base",
            "_model_module_version": "1.2.0",
            "_model_name": "LayoutModel",
            "_view_count": null,
            "_view_module": "@jupyter-widgets/base",
            "_view_module_version": "1.2.0",
            "_view_name": "LayoutView",
            "align_content": null,
            "align_items": null,
            "align_self": null,
            "border": null,
            "bottom": null,
            "display": null,
            "flex": null,
            "flex_flow": null,
            "grid_area": null,
            "grid_auto_columns": null,
            "grid_auto_flow": null,
            "grid_auto_rows": null,
            "grid_column": null,
            "grid_gap": null,
            "grid_row": null,
            "grid_template_areas": null,
            "grid_template_columns": null,
            "grid_template_rows": null,
            "height": null,
            "justify_content": null,
            "justify_items": null,
            "left": null,
            "margin": null,
            "max_height": null,
            "max_width": null,
            "min_height": null,
            "min_width": null,
            "object_fit": null,
            "object_position": null,
            "order": null,
            "overflow": null,
            "overflow_x": null,
            "overflow_y": null,
            "padding": null,
            "right": null,
            "top": null,
            "visibility": null,
            "width": null
          }
        },
        "00f9d23b4d244d14b411cd5a59b2bfe4": {
          "model_module": "@jupyter-widgets/base",
          "model_name": "LayoutModel",
          "model_module_version": "1.2.0",
          "state": {
            "_model_module": "@jupyter-widgets/base",
            "_model_module_version": "1.2.0",
            "_model_name": "LayoutModel",
            "_view_count": null,
            "_view_module": "@jupyter-widgets/base",
            "_view_module_version": "1.2.0",
            "_view_name": "LayoutView",
            "align_content": null,
            "align_items": null,
            "align_self": null,
            "border": null,
            "bottom": null,
            "display": null,
            "flex": null,
            "flex_flow": null,
            "grid_area": null,
            "grid_auto_columns": null,
            "grid_auto_flow": null,
            "grid_auto_rows": null,
            "grid_column": null,
            "grid_gap": null,
            "grid_row": null,
            "grid_template_areas": null,
            "grid_template_columns": null,
            "grid_template_rows": null,
            "height": null,
            "justify_content": null,
            "justify_items": null,
            "left": null,
            "margin": null,
            "max_height": null,
            "max_width": null,
            "min_height": null,
            "min_width": null,
            "object_fit": null,
            "object_position": null,
            "order": null,
            "overflow": null,
            "overflow_x": null,
            "overflow_y": null,
            "padding": null,
            "right": null,
            "top": null,
            "visibility": null,
            "width": null
          }
        },
        "974ab8fdaae94fd78190a7f43653483e": {
          "model_module": "@jupyter-widgets/controls",
          "model_name": "DescriptionStyleModel",
          "model_module_version": "1.5.0",
          "state": {
            "_model_module": "@jupyter-widgets/controls",
            "_model_module_version": "1.5.0",
            "_model_name": "DescriptionStyleModel",
            "_view_count": null,
            "_view_module": "@jupyter-widgets/base",
            "_view_module_version": "1.2.0",
            "_view_name": "StyleView",
            "description_width": ""
          }
        },
        "9d7b420182874d9688c0090865a37a51": {
          "model_module": "@jupyter-widgets/base",
          "model_name": "LayoutModel",
          "model_module_version": "1.2.0",
          "state": {
            "_model_module": "@jupyter-widgets/base",
            "_model_module_version": "1.2.0",
            "_model_name": "LayoutModel",
            "_view_count": null,
            "_view_module": "@jupyter-widgets/base",
            "_view_module_version": "1.2.0",
            "_view_name": "LayoutView",
            "align_content": null,
            "align_items": null,
            "align_self": null,
            "border": null,
            "bottom": null,
            "display": null,
            "flex": null,
            "flex_flow": null,
            "grid_area": null,
            "grid_auto_columns": null,
            "grid_auto_flow": null,
            "grid_auto_rows": null,
            "grid_column": null,
            "grid_gap": null,
            "grid_row": null,
            "grid_template_areas": null,
            "grid_template_columns": null,
            "grid_template_rows": null,
            "height": null,
            "justify_content": null,
            "justify_items": null,
            "left": null,
            "margin": null,
            "max_height": null,
            "max_width": null,
            "min_height": null,
            "min_width": null,
            "object_fit": null,
            "object_position": null,
            "order": null,
            "overflow": null,
            "overflow_x": null,
            "overflow_y": null,
            "padding": null,
            "right": null,
            "top": null,
            "visibility": null,
            "width": null
          }
        },
        "347a63fd80634c16810621aa8afacde6": {
          "model_module": "@jupyter-widgets/controls",
          "model_name": "ProgressStyleModel",
          "model_module_version": "1.5.0",
          "state": {
            "_model_module": "@jupyter-widgets/controls",
            "_model_module_version": "1.5.0",
            "_model_name": "ProgressStyleModel",
            "_view_count": null,
            "_view_module": "@jupyter-widgets/base",
            "_view_module_version": "1.2.0",
            "_view_name": "StyleView",
            "bar_color": null,
            "description_width": ""
          }
        },
        "baa4a9f4e19e47ebbb91cd0b33ad0ed2": {
          "model_module": "@jupyter-widgets/base",
          "model_name": "LayoutModel",
          "model_module_version": "1.2.0",
          "state": {
            "_model_module": "@jupyter-widgets/base",
            "_model_module_version": "1.2.0",
            "_model_name": "LayoutModel",
            "_view_count": null,
            "_view_module": "@jupyter-widgets/base",
            "_view_module_version": "1.2.0",
            "_view_name": "LayoutView",
            "align_content": null,
            "align_items": null,
            "align_self": null,
            "border": null,
            "bottom": null,
            "display": null,
            "flex": null,
            "flex_flow": null,
            "grid_area": null,
            "grid_auto_columns": null,
            "grid_auto_flow": null,
            "grid_auto_rows": null,
            "grid_column": null,
            "grid_gap": null,
            "grid_row": null,
            "grid_template_areas": null,
            "grid_template_columns": null,
            "grid_template_rows": null,
            "height": null,
            "justify_content": null,
            "justify_items": null,
            "left": null,
            "margin": null,
            "max_height": null,
            "max_width": null,
            "min_height": null,
            "min_width": null,
            "object_fit": null,
            "object_position": null,
            "order": null,
            "overflow": null,
            "overflow_x": null,
            "overflow_y": null,
            "padding": null,
            "right": null,
            "top": null,
            "visibility": null,
            "width": null
          }
        },
        "c9732077297044cb94d7e918b5a3edf0": {
          "model_module": "@jupyter-widgets/controls",
          "model_name": "DescriptionStyleModel",
          "model_module_version": "1.5.0",
          "state": {
            "_model_module": "@jupyter-widgets/controls",
            "_model_module_version": "1.5.0",
            "_model_name": "DescriptionStyleModel",
            "_view_count": null,
            "_view_module": "@jupyter-widgets/base",
            "_view_module_version": "1.2.0",
            "_view_name": "StyleView",
            "description_width": ""
          }
        }
      }
    }
  },
  "cells": [
    {
      "cell_type": "markdown",
      "metadata": {
        "id": "view-in-github",
        "colab_type": "text"
      },
      "source": [
        "<a href=\"https://colab.research.google.com/github/muhammadaarif-9/NLP/blob/main/multilingual_wordAlignment.ipynb\" target=\"_parent\"><img src=\"https://colab.research.google.com/assets/colab-badge.svg\" alt=\"Open In Colab\"/></a>"
      ]
    },
    {
      "cell_type": "markdown",
      "source": [
        "# SimAlign"
      ],
      "metadata": {
        "id": "JczNk9R5uI30"
      }
    },
    {
      "cell_type": "code",
      "source": [
        "from simalign import SentenceAligner"
      ],
      "metadata": {
        "id": "S6-60Hx91ygT"
      },
      "execution_count": 54,
      "outputs": []
    },
    {
      "cell_type": "code",
      "source": [
        "#!pip install simalign\n",
        "#!pip install sacremoses"
      ],
      "metadata": {
        "id": "7YRruFnW1xyZ"
      },
      "execution_count": 55,
      "outputs": []
    },
    {
      "cell_type": "code",
      "source": [
        "import os\n",
        "import logging\n",
        "from typing import Dict, List, Tuple, Union\n",
        "\n",
        "import numpy as np\n",
        "from scipy.stats import entropy\n",
        "from scipy.sparse import csr_matrix\n",
        "from sklearn.preprocessing import normalize\n",
        "from sklearn.metrics.pairwise import cosine_similarity\n",
        "try:\n",
        "\timport networkx as nx\n",
        "\tfrom networkx.algorithms.bipartite.matrix import from_biadjacency_matrix\n",
        "except ImportError:\n",
        "\tnx = None\n",
        "import torch\n",
        "from transformers import BertModel, BertTokenizer, XLMModel, XLMTokenizer, RobertaModel, RobertaTokenizer, XLMRobertaModel, XLMRobertaTokenizer, AutoConfig, AutoModel, AutoTokenizer, AutoModelForMaskedLM\n",
        "\n",
        "from simalign.utils import get_logger\n",
        "\n",
        "LOG = get_logger(__name__)\n",
        "\n",
        "\n",
        "class EmbeddingLoader(object):\n",
        "\tdef __init__(self, model: str=\"xlm-roberta-base\", device=torch.device('cpu'), layer: int=8):\n",
        "\t\tTR_Models = {\n",
        "\t\t\t'bert-base-uncased': (BertModel, BertTokenizer),\n",
        "\t\t\t'bert-base-multilingual-cased': (BertModel, BertTokenizer),\n",
        "\t\t\t'bert-base-multilingual-uncased': (BertModel, BertTokenizer),\n",
        "\t\t\t'xlm-mlm-100-1280': (XLMModel, XLMTokenizer),\n",
        "\t\t\t'roberta-base': (RobertaModel, RobertaTokenizer),\n",
        "\t\t\t'xlm-roberta-base': (XLMRobertaModel, XLMRobertaTokenizer),\n",
        "\t\t\t'xlm-roberta-large': (XLMRobertaModel, XLMRobertaTokenizer),\n",
        "\t\t}\n",
        "\n",
        "\t\tself.model = model\n",
        "\t\tself.device = device\n",
        "\t\tself.layer = layer\n",
        "\t\tself.emb_model = None\n",
        "\t\tself.tokenizer = None\n",
        "\n",
        "\t\tif False:\n",
        "\t\t\tmodel_class, tokenizer_class = TR_Models[model]\n",
        "\t\t\tself.emb_model = AutoModelForMaskedLM.from_pretrained(model, output_hidden_states=True)\n",
        "\t\t\tself.emb_model.eval()\n",
        "\t\t\tself.emb_model.to(self.device)\n",
        "\t\t\tself.tokenizer = AutoTokenizer.from_pretrained(model,add_prefix_space=True)\n",
        "\t\telse:\n",
        "\t\t\t# try to load model with auto-classes\n",
        "\t\t\tconfig = AutoConfig.from_pretrained(model, output_hidden_states=True)\n",
        "\t\t\tself.emb_model = AutoModel.from_pretrained(model, config=config)\n",
        "\t\t\tself.emb_model.eval()\n",
        "\t\t\tself.emb_model.to(self.device)\n",
        "\t\t\tself.tokenizer = AutoTokenizer.from_pretrained(model,add_prefix_space=True) # add_prefix_space=True for roberta and gpt2\n",
        "\t\tLOG.info(\"Initialized the EmbeddingLoader with model: {}\".format(self.model))\n",
        "\n",
        "\tdef get_embed_list(self, sent_batch: List[List[str]]) -> torch.Tensor:\n",
        "\t\tif self.emb_model is not None:\n",
        "\t\t\twith torch.no_grad():\n",
        "\t\t\t\tif not isinstance(sent_batch[0], str):\n",
        "\t\t\t\t\tinputs = self.tokenizer(sent_batch, is_split_into_words=True, padding=True, truncation=True, return_tensors=\"pt\")\n",
        "\t\t\t\telse:\n",
        "\t\t\t\t\tinputs = self.tokenizer(sent_batch, is_split_into_words=False, padding=True, truncation=True, return_tensors=\"pt\")\n",
        "\t\t\t\thidden = self.emb_model(**inputs.to(self.device))[\"hidden_states\"]\n",
        "\t\t\t\tif self.layer >= len(hidden):\n",
        "\t\t\t\t\traise ValueError(f\"Specified to take embeddings from layer {self.layer}, but model has only {len(hidden)} layers.\")\n",
        "\t\t\t\toutputs = hidden[self.layer]\n",
        "\t\t\t\treturn outputs[:, 1:-1, :]\n",
        "\t\telse:\n",
        "\t\t\treturn None\n",
        "\n",
        "\n",
        "class SentenceAligner(object):\n",
        "\tdef __init__(self, model: str = \"xlm-roberta-base\", token_type: str = \"bpe\", distortion: float = 0.0, matching_methods: str = \"mai\", device: str = \"cpu\", layer: int = 8):\n",
        "\t\tmodel_names = {\n",
        "\t\t\t\"bert\": \"bert-base-multilingual-cased\",\n",
        "\t\t\t\"xlmr\": \"xlm-roberta-base\"\n",
        "\t\t\t}\n",
        "\t\tall_matching_methods = {\"a\": \"inter\", \"m\": \"mwmf\", \"i\": \"itermax\", \"f\": \"fwd\", \"r\": \"rev\"}\n",
        "\n",
        "\t\tself.model = model\n",
        "\t\tif model in model_names:\n",
        "\t\t\tself.model = model_names[model]\n",
        "\t\tself.token_type = token_type\n",
        "\t\tself.distortion = distortion\n",
        "\t\tself.matching_methods = [all_matching_methods[m] for m in matching_methods]\n",
        "\t\tself.device = torch.device(device)\n",
        "\n",
        "\t\tself.embed_loader = EmbeddingLoader(model=self.model, device=self.device, layer=layer)\n",
        "\n",
        "\t@staticmethod\n",
        "\tdef get_max_weight_match(sim: np.ndarray) -> np.ndarray:\n",
        "\t\tif nx is None:\n",
        "\t\t\traise ValueError(\"networkx must be installed to use match algorithm.\")\n",
        "\t\tdef permute(edge):\n",
        "\t\t\tif edge[0] < sim.shape[0]:\n",
        "\t\t\t\treturn edge[0], edge[1] - sim.shape[0]\n",
        "\t\t\telse:\n",
        "\t\t\t\treturn edge[1], edge[0] - sim.shape[0]\n",
        "\t\tG = from_biadjacency_matrix(csr_matrix(sim))\n",
        "\t\tmatching = nx.max_weight_matching(G, maxcardinality=True)\n",
        "\t\tmatching = [permute(x) for x in matching]\n",
        "\t\tmatching = sorted(matching, key=lambda x: x[0])\n",
        "\t\tres_matrix = np.zeros_like(sim)\n",
        "\t\tfor edge in matching:\n",
        "\t\t\tres_matrix[edge[0], edge[1]] = 1\n",
        "\t\treturn res_matrix\n",
        "\n",
        "\t@staticmethod\n",
        "\tdef get_similarity(X: np.ndarray, Y: np.ndarray) -> np.ndarray:\n",
        "\t\treturn (cosine_similarity(X, Y) + 1.0) / 2.0\n",
        "\n",
        "\t@staticmethod\n",
        "\tdef average_embeds_over_words(bpe_vectors: np.ndarray, word_tokens_pair: List[List[str]]) -> List[np.array]:\n",
        "\t\tw2b_map = []\n",
        "\t\tcnt = 0\n",
        "\t\tw2b_map.append([])\n",
        "\t\tfor wlist in word_tokens_pair[0]:\n",
        "\t\t\tw2b_map[0].append([])\n",
        "\t\t\tfor x in wlist:\n",
        "\t\t\t\tw2b_map[0][-1].append(cnt)\n",
        "\t\t\t\tcnt += 1\n",
        "\t\tcnt = 0\n",
        "\t\tw2b_map.append([])\n",
        "\t\tfor wlist in word_tokens_pair[1]:\n",
        "\t\t\tw2b_map[1].append([])\n",
        "\t\t\tfor x in wlist:\n",
        "\t\t\t\tw2b_map[1][-1].append(cnt)\n",
        "\t\t\t\tcnt += 1\n",
        "\n",
        "\t\tnew_vectors = []\n",
        "\t\tfor l_id in range(2):\n",
        "\t\t\tw_vector = []\n",
        "\t\t\tfor word_set in w2b_map[l_id]:\n",
        "\t\t\t\tw_vector.append(bpe_vectors[l_id][word_set].mean(0))\n",
        "\t\t\tnew_vectors.append(np.array(w_vector))\n",
        "\t\treturn new_vectors\n",
        "\n",
        "\t@staticmethod\n",
        "\tdef get_alignment_matrix(sim_matrix: np.ndarray) -> Tuple[np.ndarray, np.ndarray]:\n",
        "\t\tm, n = sim_matrix.shape\n",
        "\t\tforward = np.eye(n)[sim_matrix.argmax(axis=1)]  # m x n\n",
        "\t\tbackward = np.eye(m)[sim_matrix.argmax(axis=0)]  # n x m\n",
        "\t\treturn forward, backward.transpose()\n",
        "\n",
        "\t@staticmethod\n",
        "\tdef apply_distortion(sim_matrix: np.ndarray, ratio: float = 0.5) -> np.ndarray:\n",
        "\t\tshape = sim_matrix.shape\n",
        "\t\tif (shape[0] < 2 or shape[1] < 2) or ratio == 0.0:\n",
        "\t\t\treturn sim_matrix\n",
        "\n",
        "\t\tpos_x = np.array([[y / float(shape[1] - 1) for y in range(shape[1])] for x in range(shape[0])])\n",
        "\t\tpos_y = np.array([[x / float(shape[0] - 1) for x in range(shape[0])] for y in range(shape[1])])\n",
        "\t\tdistortion_mask = 1.0 - ((pos_x - np.transpose(pos_y)) ** 2) * ratio\n",
        "\n",
        "\t\treturn np.multiply(sim_matrix, distortion_mask)\n",
        "\n",
        "\t@staticmethod\n",
        "\tdef iter_max(sim_matrix: np.ndarray, max_count: int=2) -> np.ndarray:\n",
        "\t\talpha_ratio = 0.9\n",
        "\t\tm, n = sim_matrix.shape\n",
        "\t\tforward = np.eye(n)[sim_matrix.argmax(axis=1)]  # m x n\n",
        "\t\tbackward = np.eye(m)[sim_matrix.argmax(axis=0)]  # n x m\n",
        "\t\tinter = forward * backward.transpose()\n",
        "\n",
        "\t\tif min(m, n) <= 2:\n",
        "\t\t\treturn inter\n",
        "\n",
        "\t\tnew_inter = np.zeros((m, n))\n",
        "\t\tcount = 1\n",
        "\t\twhile count < max_count:\n",
        "\t\t\tmask_x = 1.0 - np.tile(inter.sum(1)[:, np.newaxis], (1, n)).clip(0.0, 1.0)\n",
        "\t\t\tmask_y = 1.0 - np.tile(inter.sum(0)[np.newaxis, :], (m, 1)).clip(0.0, 1.0)\n",
        "\t\t\tmask = ((alpha_ratio * mask_x) + (alpha_ratio * mask_y)).clip(0.0, 1.0)\n",
        "\t\t\tmask_zeros = 1.0 - ((1.0 - mask_x) * (1.0 - mask_y))\n",
        "\t\t\tif mask_x.sum() < 1.0 or mask_y.sum() < 1.0:\n",
        "\t\t\t\tmask *= 0.0\n",
        "\t\t\t\tmask_zeros *= 0.0\n",
        "\n",
        "\t\t\tnew_sim = sim_matrix * mask\n",
        "\t\t\tfwd = np.eye(n)[new_sim.argmax(axis=1)] * mask_zeros\n",
        "\t\t\tbac = np.eye(m)[new_sim.argmax(axis=0)].transpose() * mask_zeros\n",
        "\t\t\tnew_inter = fwd * bac\n",
        "\n",
        "\t\t\tif np.array_equal(inter + new_inter, inter):\n",
        "\t\t\t\tbreak\n",
        "\t\t\tinter = inter + new_inter\n",
        "\t\t\tcount += 1\n",
        "\t\treturn inter\n",
        "\n",
        "\tdef get_word_aligns(self, src_sent: Union[str, List[str]], trg_sent: Union[str, List[str]]) -> Dict[str, List]:\n",
        "\t\tif isinstance(src_sent, str):\n",
        "\t\t\tsrc_sent = src_sent.split()\n",
        "\t\tif isinstance(trg_sent, str):\n",
        "\t\t\ttrg_sent = trg_sent.split()\n",
        "\t\tl1_tokens = [self.embed_loader.tokenizer.tokenize(word) for word in src_sent]\n",
        "\t\tl2_tokens = [self.embed_loader.tokenizer.tokenize(word) for word in trg_sent]\n",
        "\t\tbpe_lists = [[bpe for w in sent for bpe in w] for sent in [l1_tokens, l2_tokens]]\n",
        "\n",
        "\t\tif self.token_type == \"bpe\":\n",
        "\t\t\tl1_b2w_map = []\n",
        "\t\t\tfor i, wlist in enumerate(l1_tokens):\n",
        "\t\t\t\tl1_b2w_map += [i for x in wlist]\n",
        "\t\t\tl2_b2w_map = []\n",
        "\t\t\tfor i, wlist in enumerate(l2_tokens):\n",
        "\t\t\t\tl2_b2w_map += [i for x in wlist]\n",
        "\n",
        "\t\tvectors = self.embed_loader.get_embed_list([src_sent, trg_sent]).cpu().detach().numpy()\n",
        "\t\tvectors = [vectors[i, :len(bpe_lists[i])] for i in [0, 1]]\n",
        "\n",
        "\t\tif self.token_type == \"word\":\n",
        "\t\t\tvectors = self.average_embeds_over_words(vectors, [l1_tokens, l2_tokens])\n",
        "\n",
        "\t\tall_mats = {}\n",
        "\t\tsim = self.get_similarity(vectors[0], vectors[1])\n",
        "\t\tsim = self.apply_distortion(sim, self.distortion)\n",
        "\n",
        "\t\tall_mats[\"fwd\"], all_mats[\"rev\"] = self.get_alignment_matrix(sim)\n",
        "\t\tall_mats[\"inter\"] = all_mats[\"fwd\"] * all_mats[\"rev\"]\n",
        "\t\tif \"mwmf\" in self.matching_methods:\n",
        "\t\t\tall_mats[\"mwmf\"] = self.get_max_weight_match(sim)\n",
        "\t\tif \"itermax\" in self.matching_methods:\n",
        "\t\t\tall_mats[\"itermax\"] = self.iter_max(sim)\n",
        "\n",
        "\t\taligns = {x: set() for x in self.matching_methods}\n",
        "\t\tfor i in range(len(vectors[0])):\n",
        "\t\t\tfor j in range(len(vectors[1])):\n",
        "\t\t\t\tfor ext in self.matching_methods:\n",
        "\t\t\t\t\tif all_mats[ext][i, j] > 0:\n",
        "\t\t\t\t\t\tif self.token_type == \"bpe\":\n",
        "\t\t\t\t\t\t\taligns[ext].add((l1_b2w_map[i], l2_b2w_map[j]))\n",
        "\t\t\t\t\t\telse:\n",
        "\t\t\t\t\t\t\taligns[ext].add((i, j))\n",
        "\t\tfor ext in aligns:\n",
        "\t\t\taligns[ext] = sorted(aligns[ext])\n",
        "\t\treturn aligns"
      ],
      "metadata": {
        "id": "9BctbyMPuLTS"
      },
      "execution_count": 56,
      "outputs": []
    },
    {
      "cell_type": "code",
      "source": [
        "# making an instance of our model.\n",
        "# You can specify the embedding model and all alignment settings in the constructor.\n",
        "myaligner = SentenceAligner(model=\"xlm-roberta-base\", token_type=\"bpe\", matching_methods=\"mai\") \n",
        "#myaligner = SentenceAligner(model=\"bert-base-multilingual-uncased\", token_type=\"bpe\", matching_methods=\"mai\") \n",
        "#myaligner = SentenceAligner(model=\"xlm-mlm-100-1280\", token_type=\"bpe\", matching_methods=\"mai\") \n",
        "#myaligner = SentenceAligner(model=\"roberta-base\", token_type=\"bpe\", matching_methods=\"mai\") \n",
        "#myaligner = SentenceAligner(model=\"xlm-roberta-large\", token_type=\"bpe\", matching_methods=\"mai\")\n",
        "#myaligner = SentenceAligner(model=\"bert\", token_type=\"bpe\", matching_methods=\"mai\") "
      ],
      "metadata": {
        "colab": {
          "base_uri": "https://localhost:8080/",
          "height": 272,
          "referenced_widgets": [
            "df05a4b1bbd548cda70809cc765ce1a0",
            "ab37d41234a34a25897286a448c289e3",
            "a58fc00d546443b1b764477edb9b3958",
            "8f8423e09e664b46beffcd921cd4f0b0",
            "70d669111d4148a698f87df9d4e72229",
            "e76a6d28832148a1904fa250a3b985f2",
            "c129e01be036498093149b0e9d7c049a",
            "cdde7cc8f3684687a2c83872e07c873d",
            "75411e3c32544d1ba95284c231482667",
            "f4dccb5f027845f098d824171d247018",
            "8ba7ed25e28444ed8dc1ce9482e5e9b1",
            "f0bea61cf2024a76b09807da818f3afb",
            "f2890e75c2b8436f818b34752024bc57",
            "c135636dbf8947089b223f8921eb84c9",
            "d3d0844d6bea4e2bab5bcb61558cf4ee",
            "84818b3699b84f60b9b78d101ae707b3",
            "24c13fe0e3c949d09a0e0a315a9fbe1b",
            "c8953afe9d644d7ead45db25e0fac208",
            "f0b2425b5f5d4f03a2c6700b5747cb5f",
            "6949c8c943b0400a870e8f4f3c7f3c40",
            "1ec08d4f619647fbbf9d8d5688edc693",
            "9713477b67034ed19f83644a868e932a",
            "1e658d6300fb4adfa598582b4869e50c",
            "45279e366ef54a0bbb59cad1c9e3fabc",
            "0c737350eb1443a990c3704fd3c3cb25",
            "21c00f9782a847eb82c9b12609ed9272",
            "c95da1745ec8412ba0ffc0977a2bb482",
            "9e58424705c74192bab3977cf7ceaaa1",
            "06edf5e25b9646ee9afbbb2e8353309b",
            "9e5b3656ad5c46c8bc4804453beb2064",
            "b71b952abaed4d1e96ac21a2dff5c1fe",
            "634c37b583bf43a59e911443a28f3de3",
            "ca2e5cd06b644f98bb8517215fc9d23c",
            "60f472b1ebd340308c1cc9a3cea76196",
            "e6d0f6fdb5b54568af45291217e8e0e0",
            "1cf5172a0aaf40c490726b65d03adc06",
            "b526389e564541ad84d67cd2ed3546ce",
            "68a31221b1374c8eb3e307a3718b5290",
            "00f9d23b4d244d14b411cd5a59b2bfe4",
            "974ab8fdaae94fd78190a7f43653483e",
            "9d7b420182874d9688c0090865a37a51",
            "347a63fd80634c16810621aa8afacde6",
            "baa4a9f4e19e47ebbb91cd0b33ad0ed2",
            "c9732077297044cb94d7e918b5a3edf0"
          ]
        },
        "id": "wxWLjaNouLrh",
        "outputId": "13069538-a191-4341-ef09-737ee8fd5598"
      },
      "execution_count": 58,
      "outputs": [
        {
          "output_type": "display_data",
          "data": {
            "text/plain": [
              "Downloading config.json:   0%|          | 0.00/615 [00:00<?, ?B/s]"
            ],
            "application/vnd.jupyter.widget-view+json": {
              "version_major": 2,
              "version_minor": 0,
              "model_id": "df05a4b1bbd548cda70809cc765ce1a0"
            }
          },
          "metadata": {}
        },
        {
          "output_type": "display_data",
          "data": {
            "text/plain": [
              "Downloading pytorch_model.bin:   0%|          | 0.00/1.04G [00:00<?, ?B/s]"
            ],
            "application/vnd.jupyter.widget-view+json": {
              "version_major": 2,
              "version_minor": 0,
              "model_id": "f0bea61cf2024a76b09807da818f3afb"
            }
          },
          "metadata": {}
        },
        {
          "output_type": "stream",
          "name": "stderr",
          "text": [
            "Some weights of the model checkpoint at xlm-roberta-base were not used when initializing XLMRobertaModel: ['lm_head.dense.weight', 'lm_head.layer_norm.weight', 'lm_head.decoder.weight', 'lm_head.dense.bias', 'lm_head.layer_norm.bias', 'lm_head.bias']\n",
            "- This IS expected if you are initializing XLMRobertaModel from the checkpoint of a model trained on another task or with another architecture (e.g. initializing a BertForSequenceClassification model from a BertForPreTraining model).\n",
            "- This IS NOT expected if you are initializing XLMRobertaModel from the checkpoint of a model that you expect to be exactly identical (initializing a BertForSequenceClassification model from a BertForSequenceClassification model).\n"
          ]
        },
        {
          "output_type": "display_data",
          "data": {
            "text/plain": [
              "Downloading sentencepiece.bpe.model:   0%|          | 0.00/4.83M [00:00<?, ?B/s]"
            ],
            "application/vnd.jupyter.widget-view+json": {
              "version_major": 2,
              "version_minor": 0,
              "model_id": "1e658d6300fb4adfa598582b4869e50c"
            }
          },
          "metadata": {}
        },
        {
          "output_type": "display_data",
          "data": {
            "text/plain": [
              "Downloading tokenizer.json:   0%|          | 0.00/8.68M [00:00<?, ?B/s]"
            ],
            "application/vnd.jupyter.widget-view+json": {
              "version_major": 2,
              "version_minor": 0,
              "model_id": "60f472b1ebd340308c1cc9a3cea76196"
            }
          },
          "metadata": {}
        },
        {
          "output_type": "stream",
          "name": "stderr",
          "text": [
            "2022-08-03 12:49:33,970 - __main__ - INFO - Initialized the EmbeddingLoader with model: xlm-roberta-base\n",
            "2022-08-03 12:49:33,970 - __main__ - INFO - Initialized the EmbeddingLoader with model: xlm-roberta-base\n",
            "INFO:__main__:Initialized the EmbeddingLoader with model: xlm-roberta-base\n"
          ]
        }
      ]
    },
    {
      "cell_type": "code",
      "source": [
        "#The source and target sentences should be tokenized to words.\n",
        "#Experiment - 1 \n",
        "src_sentence = [\"varsh\",\"1985\",\"86\",\"men\",\"tatkalin\",\"kalyan\",\"ministry\",\"ko\",\"mahila\",\"and\",\"bal\",\"development\"] \n",
        "trg_sentence = [\"in\",\"the\",\"varsh\",\"1985\",\"86\",\"the\",\"erstwhile\",\"mntralay\",\"of\"]\n",
        "\n",
        "#Experiment - 2\n",
        "#src_sentence = [\"and\",\"islie\",\"ke\",\"roop\",\"men\",\"in\",\"tatvon\",\"come\",\"ek\",\"sath\"]\n",
        "#trg_sentence = [\"aur\",\"slie\",\"as\",\"in\",\"elements\",\"come\",\"ek\",\"sath\"]"
      ],
      "metadata": {
        "id": "qvxtJXdvuZMR"
      },
      "execution_count": 59,
      "outputs": []
    },
    {
      "cell_type": "code",
      "source": [
        "# The output is a dictionary with different matching methods.\n",
        "# Each method has a list of pairs indicating the indexes of aligned words (The alignments are zero-indexed).\n",
        "alignments = myaligner.get_word_aligns(src_sentence, trg_sentence)\n",
        "\n",
        "for i in list(enumerate(src_sentence)):\n",
        "  print(i)"
      ],
      "metadata": {
        "colab": {
          "base_uri": "https://localhost:8080/"
        },
        "id": "BRbOMVbnwlH7",
        "outputId": "6d957978-d38f-4c83-f5d3-1c380f4a145f"
      },
      "execution_count": 60,
      "outputs": [
        {
          "output_type": "stream",
          "name": "stdout",
          "text": [
            "(0, 'varsh')\n",
            "(1, '1985')\n",
            "(2, '86')\n",
            "(3, 'men')\n",
            "(4, 'tatkalin')\n",
            "(5, 'kalyan')\n",
            "(6, 'ministry')\n",
            "(7, 'ko')\n",
            "(8, 'mahila')\n",
            "(9, 'and')\n",
            "(10, 'bal')\n",
            "(11, 'development')\n"
          ]
        }
      ]
    },
    {
      "cell_type": "code",
      "source": [
        "for i in list(enumerate(trg_sentence)):\n",
        "  print(i)"
      ],
      "metadata": {
        "colab": {
          "base_uri": "https://localhost:8080/"
        },
        "id": "nukld1f6zRP2",
        "outputId": "29004844-fca5-4bc1-e206-d3d060b35f7a"
      },
      "execution_count": 61,
      "outputs": [
        {
          "output_type": "stream",
          "name": "stdout",
          "text": [
            "(0, 'in')\n",
            "(1, 'the')\n",
            "(2, 'varsh')\n",
            "(3, '1985')\n",
            "(4, '86')\n",
            "(5, 'the')\n",
            "(6, 'erstwhile')\n",
            "(7, 'mntralay')\n",
            "(8, 'of')\n"
          ]
        }
      ]
    },
    {
      "cell_type": "code",
      "source": [
        "for matching_method in alignments:\n",
        "    print(matching_method, \":\", alignments[matching_method])"
      ],
      "metadata": {
        "colab": {
          "base_uri": "https://localhost:8080/"
        },
        "id": "30Dq7cjywoWk",
        "outputId": "8a4d34bb-14b9-4983-8aea-9a663332c185"
      },
      "execution_count": 62,
      "outputs": [
        {
          "output_type": "stream",
          "name": "stdout",
          "text": [
            "mwmf : [(0, 2), (1, 3), (2, 4), (3, 0), (4, 7), (5, 6), (5, 7), (6, 1), (6, 6), (7, 8), (9, 5)]\n",
            "inter : [(0, 2), (1, 3), (2, 4), (4, 7), (6, 7), (9, 5)]\n",
            "itermax : [(0, 2), (1, 3), (2, 4), (4, 7), (5, 7), (6, 7), (7, 8), (9, 5)]\n"
          ]
        }
      ]
    },
    {
      "cell_type": "code",
      "source": [
        "print(\"Possible Alignments From SimAlign\")\n",
        "print(\"Word in Sent 1 -----> Word in Sent 2\")\n",
        "sent1 = []\n",
        "sent2 = []\n",
        "for item in alignments['itermax']:\n",
        "  print(src_sentence[item[0]],\"---------->\",trg_sentence[item[1]])\n",
        "  sent1.append(src_sentence[item[0]])\n",
        "  sent2.append(trg_sentence[item[1]])"
      ],
      "metadata": {
        "id": "C6CaXwgmzXPa",
        "colab": {
          "base_uri": "https://localhost:8080/"
        },
        "outputId": "ef83d27f-b3a2-4505-e641-3d06ba8c6dc6"
      },
      "execution_count": 63,
      "outputs": [
        {
          "output_type": "stream",
          "name": "stdout",
          "text": [
            "Possible Alignments From SimAlign\n",
            "Word in Sent 1 -----> Word in Sent 2\n",
            "varsh ----------> varsh\n",
            "1985 ----------> 1985\n",
            "86 ----------> 86\n",
            "tatkalin ----------> mntralay\n",
            "kalyan ----------> mntralay\n",
            "ministry ----------> mntralay\n",
            "ko ----------> of\n",
            "and ----------> the\n"
          ]
        }
      ]
    },
    {
      "cell_type": "code",
      "source": [
        "word_align_pairs = zip(sent1,sent2)"
      ],
      "metadata": {
        "id": "M6Mux7fx0a1V"
      },
      "execution_count": 104,
      "outputs": []
    },
    {
      "cell_type": "markdown",
      "source": [
        "# Cosine Similarity"
      ],
      "metadata": {
        "id": "TXr_pTOnsiLv"
      }
    },
    {
      "cell_type": "code",
      "source": [
        "#!pip install -U sentence-transformers"
      ],
      "metadata": {
        "id": "XAVBvZZGraZ1"
      },
      "execution_count": 105,
      "outputs": []
    },
    {
      "cell_type": "code",
      "source": [
        "from sentence_transformers import SentenceTransformer, util"
      ],
      "metadata": {
        "id": "yIiku7wsrhtA"
      },
      "execution_count": 106,
      "outputs": []
    },
    {
      "cell_type": "code",
      "source": [
        "#Load the model\n",
        "model = SentenceTransformer('sentence-transformers/msmarco-distilbert-cos-v5')"
      ],
      "metadata": {
        "id": "6a02LpCpsso5"
      },
      "execution_count": 107,
      "outputs": []
    },
    {
      "cell_type": "code",
      "source": [
        "list_score = []\n",
        "for query, docs_t in word_align_pairs:\n",
        "  #Encode query and documents\n",
        "  docs = []\n",
        "  docs.append(docs_t)\n",
        "  query_emb = model.encode(query)\n",
        "  doc_emb = model.encode(docs)\n",
        "\n",
        "  #Compute dot score between query and all document embeddings\n",
        "  scores = util.dot_score(query_emb, doc_emb)[0].cpu().tolist()\n",
        "  \n",
        "  #Combine docs & scores\n",
        "  doc_score_pairs = list(zip(docs, scores))\n",
        "\n",
        "  #Sort by decreasing score\n",
        "  doc_score_pairs = sorted(doc_score_pairs, key=lambda x: x[1], reverse=True)\n",
        "\n",
        "  #Output passages & scores\n",
        "  for doc, score in doc_score_pairs:\n",
        "    print(score, doc)\n",
        "    list_score.append(score)\n",
        "all_stats = zip(sent1,sent2,list_score)"
      ],
      "metadata": {
        "id": "QqTNhuRJtacM",
        "outputId": "a80b2875-c8fd-4d48-a10a-90379e5762ae",
        "colab": {
          "base_uri": "https://localhost:8080/"
        }
      },
      "execution_count": 108,
      "outputs": [
        {
          "output_type": "stream",
          "name": "stdout",
          "text": [
            "0.9999997615814209 varsh\n",
            "1.0 1985\n",
            "0.9999999403953552 86\n",
            "0.14687579870224 mntralay\n",
            "0.25135868787765503 mntralay\n",
            "0.10623161494731903 mntralay\n",
            "0.22925017774105072 of\n",
            "0.6618403196334839 the\n"
          ]
        }
      ]
    },
    {
      "cell_type": "code",
      "source": [
        "for word1,word2,score in all_stats:\n",
        "  print(\"[\",word1,\"---->\",word2,\"] [cosine similarity: \",round(score, 2),\"]\")"
      ],
      "metadata": {
        "id": "7qDCKWZCukKC",
        "outputId": "14212b3b-7764-4973-bde3-41272c09d50b",
        "colab": {
          "base_uri": "https://localhost:8080/"
        }
      },
      "execution_count": 109,
      "outputs": [
        {
          "output_type": "stream",
          "name": "stdout",
          "text": [
            "[ varsh ----> varsh ] [cosine similarity:  1.0 ]\n",
            "[ 1985 ----> 1985 ] [cosine similarity:  1.0 ]\n",
            "[ 86 ----> 86 ] [cosine similarity:  1.0 ]\n",
            "[ tatkalin ----> mntralay ] [cosine similarity:  0.15 ]\n",
            "[ kalyan ----> mntralay ] [cosine similarity:  0.25 ]\n",
            "[ ministry ----> mntralay ] [cosine similarity:  0.11 ]\n",
            "[ ko ----> of ] [cosine similarity:  0.23 ]\n",
            "[ and ----> the ] [cosine similarity:  0.66 ]\n"
          ]
        }
      ]
    },
    {
      "cell_type": "code",
      "source": [
        "print([x for x in list_score])"
      ],
      "metadata": {
        "id": "pfsc2b5uukTW",
        "outputId": "7e496a1b-3678-467e-f312-4940802f6a96",
        "colab": {
          "base_uri": "https://localhost:8080/"
        }
      },
      "execution_count": 101,
      "outputs": [
        {
          "output_type": "stream",
          "name": "stdout",
          "text": [
            "[0.9999997615814209, 1.0, 0.9999999403953552, 0.14687579870224, 0.25135868787765503, 0.10623161494731903, 0.22925017774105072, 0.6618403196334839]\n"
          ]
        }
      ]
    },
    {
      "cell_type": "code",
      "source": [
        "\n",
        "\n",
        "#Encode query and documents\n",
        "query_emb = model.encode(query)\n",
        "doc_emb = model.encode(docs)\n",
        "\n",
        "#Compute dot score between query and all document embeddings\n",
        "scores = util.dot_score(query_emb, doc_emb)[0].cpu().tolist()\n",
        "\n",
        "#Combine docs & scores\n",
        "doc_score_pairs = list(zip(docs, scores))\n",
        "\n",
        "#Sort by decreasing score\n",
        "doc_score_pairs = sorted(doc_score_pairs, key=lambda x: x[1], reverse=True)\n",
        "\n",
        "#Output passages & scores\n",
        "for doc, score in doc_score_pairs:\n",
        "    print(score, doc)"
      ],
      "metadata": {
        "id": "aK7uTY9Ys0AK",
        "outputId": "bc51a1bb-a86d-4739-fc34-0358804cc407",
        "colab": {
          "base_uri": "https://localhost:8080/"
        }
      },
      "execution_count": 102,
      "outputs": [
        {
          "output_type": "stream",
          "name": "stdout",
          "text": [
            "0.6618403196334839 the\n"
          ]
        }
      ]
    },
    {
      "cell_type": "code",
      "source": [
        "a = [1,2,3,4]\n",
        "b = [1,4,9,16]\n",
        "l = zip(a,b)"
      ],
      "metadata": {
        "id": "lhv3fB7stEtj"
      },
      "execution_count": 25,
      "outputs": []
    },
    {
      "cell_type": "code",
      "source": [
        "l"
      ],
      "metadata": {
        "id": "0kKgiXQJttJD",
        "outputId": "ef160486-5ce1-4c24-cbeb-f8c67f147836",
        "colab": {
          "base_uri": "https://localhost:8080/"
        }
      },
      "execution_count": 26,
      "outputs": [
        {
          "output_type": "execute_result",
          "data": {
            "text/plain": [
              "<zip at 0x7f542ab5ad70>"
            ]
          },
          "metadata": {},
          "execution_count": 26
        }
      ]
    },
    {
      "cell_type": "code",
      "source": [
        "for i, j in l:\n",
        "  print(i,j)"
      ],
      "metadata": {
        "id": "R1bIGNs7ttzw",
        "outputId": "f65ed528-6d60-4f0e-a416-5acfce005fc5",
        "colab": {
          "base_uri": "https://localhost:8080/"
        }
      },
      "execution_count": 27,
      "outputs": [
        {
          "output_type": "stream",
          "name": "stdout",
          "text": [
            "1 1\n",
            "2 4\n",
            "3 9\n",
            "4 16\n"
          ]
        }
      ]
    },
    {
      "cell_type": "code",
      "source": [
        "a = \"abc\"\n",
        "l = []\n",
        "l.append(a)\n",
        "print(type(list(l)))"
      ],
      "metadata": {
        "id": "HIu1aydCtwzo",
        "outputId": "98378884-462b-4d15-ed1a-d0ae2f68a379",
        "colab": {
          "base_uri": "https://localhost:8080/"
        }
      },
      "execution_count": 46,
      "outputs": [
        {
          "output_type": "stream",
          "name": "stdout",
          "text": [
            "<class 'list'>\n"
          ]
        }
      ]
    },
    {
      "cell_type": "code",
      "source": [
        "l"
      ],
      "metadata": {
        "id": "zFVNfucLveDe",
        "outputId": "6f94ebd0-5758-4c15-d5fa-d266cfe8c5b5",
        "colab": {
          "base_uri": "https://localhost:8080/"
        }
      },
      "execution_count": 47,
      "outputs": [
        {
          "output_type": "execute_result",
          "data": {
            "text/plain": [
              "['abc']"
            ]
          },
          "metadata": {},
          "execution_count": 47
        }
      ]
    },
    {
      "cell_type": "code",
      "source": [
        ""
      ],
      "metadata": {
        "id": "B-nIJPBFvqrn"
      },
      "execution_count": null,
      "outputs": []
    }
  ]
}